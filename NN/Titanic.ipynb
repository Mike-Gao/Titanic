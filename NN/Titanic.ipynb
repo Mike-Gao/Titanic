{
 "cells": [
  {
   "cell_type": "code",
   "execution_count": 18,
   "metadata": {},
   "outputs": [],
   "source": [
    "import math\n",
    "import numpy as np\n",
    "import h5py\n",
    "import matplotlib.pyplot as plt\n",
    "import tensorflow as tf\n",
    "from tensorflow.python.framework import ops\n",
    "%run lib/cleandata.py\n",
    "%run lib/dnn_utils_v2.py\n",
    "%matplotlib inline"
   ]
  },
  {
   "cell_type": "code",
   "execution_count": 19,
   "metadata": {
    "scrolled": true
   },
   "outputs": [],
   "source": [
    "def create_placeholders(n_x, n_y):\n",
    "    \n",
    "    X = tf.placeholder(tf.float32, shape=(n_x, None))\n",
    "    Y = tf.placeholder(tf.float32, shape=(n_y, None))\n",
    "    \n",
    "    return X, Y"
   ]
  },
  {
   "cell_type": "code",
   "execution_count": 20,
   "metadata": {},
   "outputs": [],
   "source": [
    "def initialize_parameters():\n",
    "        \n",
    "    W1 = tf.get_variable(\"W1\", [50,8], initializer = tf.contrib.layers.xavier_initializer(seed = 1))\n",
    "    b1 = tf.get_variable(\"b1\", [50,1], initializer = tf.zeros_initializer())\n",
    "    W2 = tf.get_variable(\"W2\", [35, 50], initializer = tf.contrib.layers.xavier_initializer(seed = 1))\n",
    "    b2 = tf.get_variable(\"b2\", [35, 1], initializer = tf.zeros_initializer())\n",
    "    W3 = tf.get_variable(\"W3\", [1, 35], initializer = tf.contrib.layers.xavier_initializer(seed = 1))\n",
    "    b3 = tf.get_variable(\"b3\", [1,1], initializer = tf.zeros_initializer())\n",
    "\n",
    "    parameters = {\"W1\": W1,\n",
    "                  \"b1\": b1,\n",
    "                  \"W2\": W2,\n",
    "                  \"b2\": b2,\n",
    "                  \"W3\": W3,\n",
    "                  \"b3\": b3}\n",
    "    \n",
    "    return parameters"
   ]
  },
  {
   "cell_type": "code",
   "execution_count": 21,
   "metadata": {},
   "outputs": [],
   "source": [
    "def forward_propagation(X, parameters):\n",
    "    W1 = parameters['W1']\n",
    "    b1 = parameters['b1']\n",
    "    W2 = parameters['W2']\n",
    "    b2 = parameters['b2']\n",
    "    W3 = parameters['W3']\n",
    "    b3 = parameters['b3']\n",
    "    \n",
    "    Z1 = tf.add(tf.matmul(W1, X), b1)                                             \n",
    "    A1 = tf.nn.relu(Z1)                                             \n",
    "    Z2 = tf.add(tf.matmul(W2, A1), b2)                                           \n",
    "    A2 = tf.nn.relu(Z2)                                            \n",
    "    Z3 = tf.add(tf.matmul(W3, A2), b3)                                           \n",
    "    \n",
    "    return Z3"
   ]
  },
  {
   "cell_type": "code",
   "execution_count": 22,
   "metadata": {},
   "outputs": [],
   "source": [
    "def compute_cost(Z3, Y):\n",
    "    logits = tf.transpose(Z3)\n",
    "    labels = tf.transpose(Y)\n",
    "    \n",
    "    cost = tf.reduce_mean(tf.nn.sigmoid_cross_entropy_with_logits(logits = logits, labels = labels))\n",
    "    \n",
    "    return cost"
   ]
  },
  {
   "cell_type": "code",
   "execution_count": 23,
   "metadata": {},
   "outputs": [],
   "source": [
    "def model(X_train, Y_train, X_test, learning_rate = 0.0001,\n",
    "          num_epochs = 1500, minibatch_size = 32, print_cost = True):\n",
    "    \n",
    "    ops.reset_default_graph()                         \n",
    "    (n_x, m) = X_train.shape                         \n",
    "    n_y = Y_train.shape[0]                           \n",
    "    costs = []                                     \n",
    "    \n",
    "    X, Y = create_placeholders(n_x, n_y)\n",
    "    parameters = initialize_parameters()\n",
    "    Z3 = forward_propagation(X, parameters)\n",
    "    cost = compute_cost(Z3, Y)\n",
    "    optimizer = tf.train.AdamOptimizer(learning_rate = learning_rate).minimize(cost)\n",
    "    init = tf.global_variables_initializer()\n",
    "    with tf.Session() as sess:\n",
    "        \n",
    "        sess.run(init)\n",
    "        \n",
    "        for epoch in range(num_epochs):\n",
    "\n",
    "            _ , epoch_cost = sess.run([optimizer, cost], feed_dict = {X:X_train, Y:Y_train})\n",
    "            \n",
    "            if print_cost == True and epoch % 100 == 0:\n",
    "                print (\"Cost after epoch %i: %f\" % (epoch, epoch_cost))\n",
    "            if print_cost == True and epoch % 5 == 0:\n",
    "                costs.append(epoch_cost)\n",
    "                \n",
    "        plt.plot(np.squeeze(costs))\n",
    "        plt.ylabel('cost')\n",
    "        plt.xlabel('iterations (per tens)')\n",
    "        plt.title(\"Learning rate =\" + str(learning_rate))\n",
    "        plt.show()\n",
    "\n",
    "        parameters = sess.run(parameters)\n",
    "        print (\"Parameters have been trained!\")\n",
    "\n",
    "        \n",
    "        correct_prediction = tf.equal(tf.round(Z3), tf.round(Y))\n",
    "        accuracy = tf.reduce_mean(tf.cast(correct_prediction, \"float\"))\n",
    "\n",
    "        \n",
    "        return parameters"
   ]
  },
  {
   "cell_type": "code",
   "execution_count": 24,
   "metadata": {},
   "outputs": [
    {
     "name": "stdout",
     "output_type": "stream",
     "text": [
      "(891, 9) (418, 9)\n"
     ]
    }
   ],
   "source": [
    "train,test = clean()"
   ]
  },
  {
   "cell_type": "code",
   "execution_count": 25,
   "metadata": {},
   "outputs": [],
   "source": [
    "X_train = train[1:,:]\n",
    "Y_train = train[:1,:]"
   ]
  },
  {
   "cell_type": "code",
   "execution_count": 26,
   "metadata": {},
   "outputs": [],
   "source": [
    "Y_train2 = np.subtract(np.zeros(Y_train.shape)+1,Y_train.astype(float))"
   ]
  },
  {
   "cell_type": "code",
   "execution_count": 27,
   "metadata": {},
   "outputs": [],
   "source": [
    "X_test = test[1:,:]"
   ]
  },
  {
   "cell_type": "code",
   "execution_count": 28,
   "metadata": {},
   "outputs": [
    {
     "name": "stdout",
     "output_type": "stream",
     "text": [
      "(8, 418)\n"
     ]
    }
   ],
   "source": [
    "print(X_test.shape)"
   ]
  },
  {
   "cell_type": "code",
   "execution_count": 29,
   "metadata": {},
   "outputs": [
    {
     "name": "stdout",
     "output_type": "stream",
     "text": [
      "Cost after epoch 0: 1.183220\n",
      "Cost after epoch 100: 0.655480\n",
      "Cost after epoch 200: 0.552865\n",
      "Cost after epoch 300: 0.508811\n",
      "Cost after epoch 400: 0.480598\n",
      "Cost after epoch 500: 0.462102\n",
      "Cost after epoch 600: 0.449439\n",
      "Cost after epoch 700: 0.439936\n",
      "Cost after epoch 800: 0.432076\n",
      "Cost after epoch 900: 0.425063\n",
      "Cost after epoch 1000: 0.419262\n",
      "Cost after epoch 1100: 0.414582\n",
      "Cost after epoch 1200: 0.410474\n",
      "Cost after epoch 1300: 0.406277\n",
      "Cost after epoch 1400: 0.401987\n",
      "Cost after epoch 1500: 0.398216\n",
      "Cost after epoch 1600: 0.394824\n",
      "Cost after epoch 1700: 0.391976\n",
      "Cost after epoch 1800: 0.389241\n",
      "Cost after epoch 1900: 0.386788\n",
      "Cost after epoch 2000: 0.384463\n",
      "Cost after epoch 2100: 0.382344\n",
      "Cost after epoch 2200: 0.380369\n",
      "Cost after epoch 2300: 0.378437\n",
      "Cost after epoch 2400: 0.376528\n",
      "Cost after epoch 2500: 0.374583\n",
      "Cost after epoch 2600: 0.372753\n",
      "Cost after epoch 2700: 0.370992\n",
      "Cost after epoch 2800: 0.369220\n",
      "Cost after epoch 2900: 0.367494\n",
      "Cost after epoch 3000: 0.365810\n",
      "Cost after epoch 3100: 0.364131\n",
      "Cost after epoch 3200: 0.362477\n",
      "Cost after epoch 3300: 0.360796\n",
      "Cost after epoch 3400: 0.359061\n",
      "Cost after epoch 3500: 0.357286\n",
      "Cost after epoch 3600: 0.355617\n",
      "Cost after epoch 3700: 0.353996\n",
      "Cost after epoch 3800: 0.352370\n",
      "Cost after epoch 3900: 0.350752\n",
      "Cost after epoch 4000: 0.349161\n",
      "Cost after epoch 4100: 0.347620\n",
      "Cost after epoch 4200: 0.346105\n",
      "Cost after epoch 4300: 0.344558\n",
      "Cost after epoch 4400: 0.342982\n",
      "Cost after epoch 4500: 0.341435\n",
      "Cost after epoch 4600: 0.339905\n",
      "Cost after epoch 4700: 0.338433\n",
      "Cost after epoch 4800: 0.336962\n",
      "Cost after epoch 4900: 0.335519\n",
      "Cost after epoch 5000: 0.334079\n",
      "Cost after epoch 5100: 0.332686\n",
      "Cost after epoch 5200: 0.331301\n",
      "Cost after epoch 5300: 0.329951\n",
      "Cost after epoch 5400: 0.328636\n",
      "Cost after epoch 5500: 0.327359\n",
      "Cost after epoch 5600: 0.326122\n",
      "Cost after epoch 5700: 0.324892\n",
      "Cost after epoch 5800: 0.323684\n",
      "Cost after epoch 5900: 0.322486\n",
      "Cost after epoch 6000: 0.321338\n",
      "Cost after epoch 6100: 0.320238\n",
      "Cost after epoch 6200: 0.319172\n",
      "Cost after epoch 6300: 0.318160\n",
      "Cost after epoch 6400: 0.317184\n",
      "Cost after epoch 6500: 0.316244\n",
      "Cost after epoch 6600: 0.315340\n",
      "Cost after epoch 6700: 0.314471\n",
      "Cost after epoch 6800: 0.313644\n",
      "Cost after epoch 6900: 0.312818\n",
      "Cost after epoch 7000: 0.312023\n",
      "Cost after epoch 7100: 0.311232\n",
      "Cost after epoch 7200: 0.310387\n",
      "Cost after epoch 7300: 0.309596\n",
      "Cost after epoch 7400: 0.308803\n",
      "Cost after epoch 7500: 0.307980\n",
      "Cost after epoch 7600: 0.307186\n",
      "Cost after epoch 7700: 0.306382\n",
      "Cost after epoch 7800: 0.305528\n",
      "Cost after epoch 7900: 0.304745\n",
      "Cost after epoch 8000: 0.304011\n",
      "Cost after epoch 8100: 0.303325\n",
      "Cost after epoch 8200: 0.302678\n",
      "Cost after epoch 8300: 0.302069\n",
      "Cost after epoch 8400: 0.301481\n",
      "Cost after epoch 8500: 0.300915\n",
      "Cost after epoch 8600: 0.300365\n",
      "Cost after epoch 8700: 0.299850\n",
      "Cost after epoch 8800: 0.299353\n",
      "Cost after epoch 8900: 0.298882\n",
      "Cost after epoch 9000: 0.298425\n",
      "Cost after epoch 9100: 0.297987\n",
      "Cost after epoch 9200: 0.297569\n",
      "Cost after epoch 9300: 0.297158\n",
      "Cost after epoch 9400: 0.296738\n",
      "Cost after epoch 9500: 0.296353\n",
      "Cost after epoch 9600: 0.295989\n",
      "Cost after epoch 9700: 0.295654\n",
      "Cost after epoch 9800: 0.295349\n",
      "Cost after epoch 9900: 0.295063\n",
      "Cost after epoch 10000: 0.294789\n",
      "Cost after epoch 10100: 0.294517\n",
      "Cost after epoch 10200: 0.294258\n",
      "Cost after epoch 10300: 0.294011\n",
      "Cost after epoch 10400: 0.293776\n",
      "Cost after epoch 10500: 0.293554\n",
      "Cost after epoch 10600: 0.293341\n",
      "Cost after epoch 10700: 0.293143\n",
      "Cost after epoch 10800: 0.292955\n",
      "Cost after epoch 10900: 0.292774\n",
      "Cost after epoch 11000: 0.292603\n",
      "Cost after epoch 11100: 0.292440\n",
      "Cost after epoch 11200: 0.292290\n",
      "Cost after epoch 11300: 0.292137\n",
      "Cost after epoch 11400: 0.291994\n",
      "Cost after epoch 11500: 0.291860\n",
      "Cost after epoch 11600: 0.291726\n",
      "Cost after epoch 11700: 0.291604\n",
      "Cost after epoch 11800: 0.291488\n",
      "Cost after epoch 11900: 0.291376\n",
      "Cost after epoch 12000: 0.291269\n",
      "Cost after epoch 12100: 0.291165\n",
      "Cost after epoch 12200: 0.291066\n",
      "Cost after epoch 12300: 0.290971\n",
      "Cost after epoch 12400: 0.290880\n",
      "Cost after epoch 12500: 0.290795\n",
      "Cost after epoch 12600: 0.290705\n",
      "Cost after epoch 12700: 0.290624\n",
      "Cost after epoch 12800: 0.290546\n",
      "Cost after epoch 12900: 0.290471\n",
      "Cost after epoch 13000: 0.290400\n",
      "Cost after epoch 13100: 0.290329\n",
      "Cost after epoch 13200: 0.290263\n",
      "Cost after epoch 13300: 0.290203\n",
      "Cost after epoch 13400: 0.290145\n",
      "Cost after epoch 13500: 0.290085\n",
      "Cost after epoch 13600: 0.290031\n",
      "Cost after epoch 13700: 0.289975\n",
      "Cost after epoch 13800: 0.289925\n",
      "Cost after epoch 13900: 0.289883\n",
      "Cost after epoch 14000: 0.289832\n",
      "Cost after epoch 14100: 0.289781\n",
      "Cost after epoch 14200: 0.289742\n",
      "Cost after epoch 14300: 0.289699\n",
      "Cost after epoch 14400: 0.289654\n",
      "Cost after epoch 14500: 0.289619\n",
      "Cost after epoch 14600: 0.289581\n",
      "Cost after epoch 14700: 0.289541\n",
      "Cost after epoch 14800: 0.289507\n",
      "Cost after epoch 14900: 0.289476\n",
      "Cost after epoch 15000: 0.289443\n",
      "Cost after epoch 15100: 0.289415\n",
      "Cost after epoch 15200: 0.289382\n",
      "Cost after epoch 15300: 0.289355\n",
      "Cost after epoch 15400: 0.289327\n",
      "Cost after epoch 15500: 0.289300\n",
      "Cost after epoch 15600: 0.289272\n",
      "Cost after epoch 15700: 0.289250\n",
      "Cost after epoch 15800: 0.289224\n",
      "Cost after epoch 15900: 0.289202\n",
      "Cost after epoch 16000: 0.289180\n",
      "Cost after epoch 16100: 0.289155\n",
      "Cost after epoch 16200: 0.289135\n",
      "Cost after epoch 16300: 0.289116\n",
      "Cost after epoch 16400: 0.289096\n",
      "Cost after epoch 16500: 0.289074\n",
      "Cost after epoch 16600: 0.289056\n",
      "Cost after epoch 16700: 0.289040\n",
      "Cost after epoch 16800: 0.289020\n",
      "Cost after epoch 16900: 0.289003\n",
      "Cost after epoch 17000: 0.288986\n",
      "Cost after epoch 17100: 0.288973\n",
      "Cost after epoch 17200: 0.288958\n",
      "Cost after epoch 17300: 0.288944\n",
      "Cost after epoch 17400: 0.288927\n",
      "Cost after epoch 17500: 0.288911\n",
      "Cost after epoch 17600: 0.288900\n",
      "Cost after epoch 17700: 0.288886\n",
      "Cost after epoch 17800: 0.288876\n",
      "Cost after epoch 17900: 0.288863\n",
      "Cost after epoch 18000: 0.288846\n",
      "Cost after epoch 18100: 0.288839\n",
      "Cost after epoch 18200: 0.288824\n",
      "Cost after epoch 18300: 0.288811\n",
      "Cost after epoch 18400: 0.288804\n",
      "Cost after epoch 18500: 0.288790\n",
      "Cost after epoch 18600: 0.288778\n",
      "Cost after epoch 18700: 0.288771\n",
      "Cost after epoch 18800: 0.288760\n",
      "Cost after epoch 18900: 0.288749\n",
      "Cost after epoch 19000: 0.288742\n",
      "Cost after epoch 19100: 0.288733\n",
      "Cost after epoch 19200: 0.288722\n",
      "Cost after epoch 19300: 0.288712\n",
      "Cost after epoch 19400: 0.288707\n",
      "Cost after epoch 19500: 0.288695\n",
      "Cost after epoch 19600: 0.288687\n",
      "Cost after epoch 19700: 0.288681\n",
      "Cost after epoch 19800: 0.288672\n",
      "Cost after epoch 19900: 0.288667\n"
     ]
    },
    {
     "data": {
      "image/png": "[encoded data removed]",
      "text/plain": [
       "<matplotlib.figure.Figure at 0x7f4f8855ea58>"
      ]
     },
     "metadata": {},
     "output_type": "display_data"
    },
    {
     "name": "stdout",
     "output_type": "stream",
     "text": [
      "Parameters have been trained!\n"
     ]
    }
   ],
   "source": [
    "parameters = model(X_train, Y_train2, X_test, num_epochs = 20000, learning_rate=0.0001)"
   ]
  },
  {
   "cell_type": "code",
   "execution_count": 30,
   "metadata": {},
   "outputs": [],
   "source": [
    "def linear_forward(A, W, b):\n",
    "    \n",
    "    Z = np.dot(W, A.astype(float)) + b\n",
    "    \n",
    "    assert(Z.shape == (W.shape[0], A.shape[1]))\n",
    "    cache = (A, W, b)\n",
    "    \n",
    "    return Z, cache\n",
    "  \n",
    "def linear_activation_forward(A_prev, W, b, activation):\n",
    "    \n",
    "    if activation == \"sigmoid\":\n",
    "        Z, linear_cache = linear_forward(A_prev, W, b)\n",
    "        A, activation_cache = sigmoid(Z)\n",
    "    \n",
    "    elif activation == \"relu\":\n",
    "        Z, linear_cache = linear_forward(A_prev, W, b)\n",
    "        A, activation_cache = relu(Z)\n",
    "    \n",
    "    assert (A.shape == (W.shape[0], A_prev.shape[1]))\n",
    "    cache = (linear_cache, activation_cache)\n",
    "\n",
    "    return A, cache\n",
    "  \n",
    "def L_model_forward(X, parameters):\n",
    "    \n",
    "    caches = []\n",
    "    A = X\n",
    "    L = len(parameters) // 2                \n",
    "    \n",
    "    for l in range(1, L):\n",
    "        A_prev = A \n",
    "        A, cache = linear_activation_forward(A_prev, parameters['W' + str(l)], parameters['b' + str(l)], \"relu\")\n",
    "        caches.append(cache)\n",
    "        \n",
    "    AL, cache = linear_activation_forward(A, parameters['W' + str(L)], parameters['b' + str(L)], \"sigmoid\")\n",
    "    caches.append(cache)\n",
    "    \n",
    "    assert(AL.shape == (1,X.shape[1]))\n",
    "            \n",
    "    return AL, caches\n",
    "  \n",
    "def predictFunc(X, y, parameters):\n",
    "    m = X.shape[1]\n",
    "    n = len(parameters) // 2 \n",
    "    p = np.zeros((1,m))\n",
    "    \n",
    "    probas, caches = L_model_forward(X, parameters)\n",
    "    \n",
    "    for i in range(0, probas.shape[1]):\n",
    "        if probas[0,i] < 0.5:\n",
    "            p[0,i] = 1\n",
    "        else:\n",
    "            p[0,i] = 0\n",
    "    \n",
    "    print(\"Accuracy: \"  + str(np.sum((p == y)/m)))\n",
    "        \n",
    "    return p"
   ]
  },
  {
   "cell_type": "code",
   "execution_count": 31,
   "metadata": {},
   "outputs": [
    {
     "name": "stdout",
     "output_type": "stream",
     "text": [
      "Accuracy: 0.867564534231\n"
     ]
    }
   ],
   "source": [
    "predictions_train = predictFunc(X_train.astype(float), Y_train.astype(float), parameters)"
   ]
  },
  {
   "cell_type": "code",
   "execution_count": 32,
   "metadata": {},
   "outputs": [],
   "source": [
    "def predictTest(X, parameters):\n",
    "    m = 1309-892+1\n",
    "    n = len(parameters)//2\n",
    "    p = np.zeros((1,m))\n",
    "    probas, caches = L_model_forward(X[1:,:], parameters)\n",
    "    \n",
    "    for i in range(0, probas.shape[1]):\n",
    "        if probas[0,i] < 0.5:\n",
    "            p[0,i] = 1\n",
    "        else:\n",
    "            p[0,i] = 0\n",
    "    return p\n",
    "            \n",
    "    \n",
    "    "
   ]
  },
  {
   "cell_type": "code",
   "execution_count": 33,
   "metadata": {},
   "outputs": [],
   "source": [
    "predictionTest = predictTest(test, parameters)"
   ]
  },
  {
   "cell_type": "code",
   "execution_count": 34,
   "metadata": {},
   "outputs": [
    {
     "name": "stdout",
     "output_type": "stream",
     "text": [
      "(1, 418)\n"
     ]
    }
   ],
   "source": [
    "print(predictionTest.shape)"
   ]
  },
  {
   "cell_type": "code",
   "execution_count": 35,
   "metadata": {},
   "outputs": [],
   "source": [
    "import csv\n",
    "with open('submission.csv', 'w') as csvfile:\n",
    "    spamwriter = csv.writer(csvfile, delimiter=',')\n",
    "    spamwriter.writerow(['PassengerId', 'Survived'])\n",
    "    for i in range(892, 1310): \n",
    "        spamwriter.writerow([str(i), str(int(predictionTest[0][i-892]))])"
   ]
  },
  {
   "cell_type": "code",
   "execution_count": null,
   "metadata": {},
   "outputs": [],
   "source": []
  },
  {
   "cell_type": "code",
   "execution_count": null,
   "metadata": {},
   "outputs": [],
   "source": []
  }
 ],
 "metadata": {
  "kernelspec": {
   "display_name": "Python 3.6",
   "language": "python",
   "name": "python36"
  },
  "language_info": {
   "codemirror_mode": {
    "name": "ipython",
    "version": 3
   },
   "file_extension": ".py",
   "mimetype": "text/x-python",
   "name": "python",
   "nbconvert_exporter": "python",
   "pygments_lexer": "ipython3",
   "version": "3.6.3"
  }
 },
 "nbformat": 4,
 "nbformat_minor": 2
}
